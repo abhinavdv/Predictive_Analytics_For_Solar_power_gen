{
 "cells": [
  {
   "cell_type": "code",
   "execution_count": null,
   "metadata": {
    "ExecuteTime": {
     "start_time": "2021-05-01T08:06:09.227Z"
    }
   },
   "outputs": [],
   "source": [
    "\n",
    "import urllib\n",
    "import xml.etree.ElementTree as ET\n",
    "import urllib\n",
    "import re\n",
    "import io, random\n",
    "import pandas as pd\n",
    "import time\n",
    "from datetime import datetime\n",
    "from sklearn.svm import SVR\n",
    "import datetime\n",
    "from skmultiflow.meta import AdaptiveRandomForestRegressor\n",
    "from skmultiflow.trees import HoeffdingTreeRegressor\n",
    "import matplotlib.pyplot as plt\n",
    "from sklearn.tree import DecisionTreeRegressor\n",
    "from sklearn.ensemble import ExtraTreesRegressor\n",
    "from sklearn.linear_model import LinearRegression\n",
    "from sklearn import linear_model\n",
    "from sklearn.ensemble import VotingRegressor"
   ]
  },
  {
   "cell_type": "code",
   "execution_count": null,
   "metadata": {
    "ExecuteTime": {
     "start_time": "2021-05-01T08:05:59.202Z"
    }
   },
   "outputs": [],
   "source": [
    "from skmultiflow.data import SEAGenerator\n",
    "from skmultiflow.data import ConceptDriftStream\n",
    "from skmultiflow.data import AGRAWALGenerator\n",
    "from skmultiflow.data.regression_generator import RegressionGenerator"
   ]
  },
  {
   "cell_type": "code",
   "execution_count": null,
   "metadata": {
    "ExecuteTime": {
     "start_time": "2021-05-01T08:05:59.578Z"
    }
   },
   "outputs": [],
   "source": [
    "# stream = AGRAWALGenerator(s_r=1)      # create a stream\n",
    "# stream.prepare_for_use()     # prepare the stream for use"
   ]
  },
  {
   "cell_type": "code",
   "execution_count": null,
   "metadata": {
    "ExecuteTime": {
     "start_time": "2021-05-01T08:05:59.954Z"
    }
   },
   "outputs": [],
   "source": [
    "stream = RegressionGenerator(n_samples=100000, n_features=6, n_targets=1, n_informative=4,\n",
    "random_state=0,)"
   ]
  },
  {
   "cell_type": "code",
   "execution_count": null,
   "metadata": {
    "ExecuteTime": {
     "start_time": "2021-05-01T08:06:00.202Z"
    }
   },
   "outputs": [],
   "source": [
    "X,Y = stream.next_sample()\n"
   ]
  },
  {
   "cell_type": "code",
   "execution_count": null,
   "metadata": {
    "ExecuteTime": {
     "start_time": "2021-05-01T08:06:00.690Z"
    }
   },
   "outputs": [],
   "source": [
    "print(X)"
   ]
  },
  {
   "cell_type": "code",
   "execution_count": 118,
   "metadata": {
    "ExecuteTime": {
     "end_time": "2021-05-01T07:23:54.970398Z",
     "start_time": "2021-05-01T07:23:54.962397Z"
    }
   },
   "outputs": [
    {
     "name": "stdout",
     "output_type": "stream",
     "text": [
      "[-26.20222737]\n"
     ]
    }
   ],
   "source": [
    "print(Y)"
   ]
  },
  {
   "cell_type": "code",
   "execution_count": null,
   "metadata": {
    "ExecuteTime": {
     "start_time": "2021-05-01T08:05:48.443Z"
    }
   },
   "outputs": [],
   "source": [
    "def pred_svr(x, y, x_test):\n",
    "    svr_rbf = LinearRegression()\n",
    "    y_rbf = svr_rbf.fit(np.array(x), np.ravel(y,order='C'))\n",
    "    return svr_rbf.predict(x_test)\n",
    "\n",
    "def pred_rff(x, y, x_test):\n",
    "    arf_reg = AdaptiveRandomForestRegressor(random_state=123456)\n",
    "    arf_reg.fit(np.array(x), np.ravel(y,order='C'))\n",
    "    return arf_reg.predict(x_test)\n",
    " \n",
    "def pred_hoe(x, y, x_test):\n",
    "    #arf_reg = ExtraTreesRegressor(n_estimators=100, random_state=0)\n",
    "    #arf_reg = linear_model.BayesianRidge()\n",
    "    arf_reg = DecisionTreeRegressor(random_state=0)\n",
    "    arf_reg.fit(np.array(x), np.ravel(y,order='C'))\n",
    "    return arf_reg.predict(x_test)\n",
    "\n",
    "def MAPE(Y_actual,Y_Predicted):\n",
    "    mape = np.mean(np.abs((Y_actual - Y_Predicted)/Y_actual))*100\n",
    "    return mape\n",
    "\n",
    "def algorithms_pred(x_total,y_total):\n",
    "    #x_total = df[[\"AMBIENT_TEMPERATURE\",\"MODULE_TEMPERATURE\",\"IRRADIATION\"]].to_numpy().tolist()\n",
    "    #y_total = df[[\"dA\"]].to_numpy().tolist()\n",
    "    x = x_total[:len(x_total)-1]\n",
    "    y = y_total[:len(y_total)-1]\n",
    "    \n",
    "    x_test = x_total[len(x_total)-1:]\n",
    "    y_test = y_total[len(y_total)-1:]\n",
    "    print(len(x))\n",
    "    print(len(y))\n",
    "    y_pred_svr = pred_svr(x,y,x_test)\n",
    "    y_pred_rff = pred_rff(x,y,x_test)\n",
    "    y_pred_hoe = pred_hoe(x,y,x_test)\n",
    "    \n",
    "    ereg = VotingRegressor(estimators=[('gb', LinearRegression()), ('rf', AdaptiveRandomForestRegressor(random_state=123456)),\n",
    "                                       ('lr', DecisionTreeRegressor(random_state=0))])\n",
    "    ereg = ereg.fit(np.array(x), np.ravel(y,order='C'))\n",
    "    y_pred_ensemb = ereg.predict(x_test)\n",
    "    #y_pred_ensemb = (1/3)*np.add(np.add(y_pred_rff,y_pred_svr),y_pred_hoe)\n",
    "#    if(y_test[0][0]!=0 and y_pred_svr!=0 and y_pred_rff!=0 and y_pred_hoe!=0):\n",
    "#         if(y_test[0][0]==0):\n",
    "#             y_test[0][0]+=1\n",
    "#             y_pred_hoe[0]+=1\n",
    "#             y_pred_rff[0]+=1\n",
    "#             y_pred_svr[0]+=1\n",
    "            \n",
    "    print(y_test ,y_pred_svr, y_pred_rff, y_pred_hoe, y_pred_ensemb)\n",
    "        #print(dt_start)\n",
    "    MAPE_list.append([y_test[0],y_pred_svr[0]])\n",
    "    MAPE_list2.append([y_test[0],y_pred_rff[0]])\n",
    "    MAPE_list3.append([y_test[0],y_pred_hoe[0]])\n",
    "    MAPE_list_ensemb.append([y_test[0],y_pred_ensemb[0]])\n",
    "        "
   ]
  },
  {
   "cell_type": "code",
   "execution_count": null,
   "metadata": {
    "ExecuteTime": {
     "start_time": "2021-05-01T08:05:48.952Z"
    }
   },
   "outputs": [],
   "source": [
    "MAPE_list = list()\n",
    "MAPE_list2 = list()\n",
    "MAPE_list3 = list()\n",
    "MAPE_list_ensemb = list()\n",
    "for i in range(1,1000):\n",
    "    x = list()\n",
    "    y = list()\n",
    "    for i in range(30):\n",
    "        X,Y = stream.next_sample()\n",
    "        x.append(X)\n",
    "        y.append(Y)\n",
    "    x = [arr[0].tolist() for arr in x]\n",
    "    y = [arr[0].tolist() for arr in y]\n",
    "    algorithms_pred(x,y)\n",
    "MAPE_npArray = np.array(MAPE_list)\n",
    "MAPE_npArray2 = np.array(MAPE_list2)\n",
    "MAPE_npArray3 = np.array(MAPE_list3)\n",
    "MAPE_npArray_ensemb = np.array(MAPE_list_ensemb)\n",
    "#print(MAPE_npArray[:,0])\n",
    "mape = MAPE(MAPE_npArray[:,0],MAPE_npArray[:,1])\n",
    "mape2 = MAPE(MAPE_npArray2[:,0],MAPE_npArray2[:,1])\n",
    "mape3 = MAPE(MAPE_npArray3[:,0],MAPE_npArray3[:,1])\n",
    "mape_ensemb = MAPE(MAPE_npArray_ensemb[:,0],MAPE_npArray_ensemb[:,1])\n",
    "print(\"MAPE for linear regression is: \"+ str(mape))\n",
    "print(\"MAPE for rff is: \"+ str(mape2))\n",
    "print(\"MAPE for decision tree is: \"+ str(mape3))\n",
    "print(\"MAPE for ensemble is: \"+ str(mape_ensemb))\n",
    "list1 = list()\n",
    "list1.append(mape)\n",
    "list1.append(mape2)\n",
    "list1.append(mape3)\n",
    "list1.append(mape_ensemb)\n",
    "\n",
    "\n",
    "\n",
    "    \n",
    "\n",
    "\n",
    "    "
   ]
  },
  {
   "cell_type": "code",
   "execution_count": null,
   "metadata": {},
   "outputs": [],
   "source": []
  }
 ],
 "metadata": {
  "kernelspec": {
   "display_name": "Python 3",
   "language": "python",
   "name": "python3"
  },
  "language_info": {
   "codemirror_mode": {
    "name": "ipython",
    "version": 3
   },
   "file_extension": ".py",
   "mimetype": "text/x-python",
   "name": "python",
   "nbconvert_exporter": "python",
   "pygments_lexer": "ipython3",
   "version": "3.8.3"
  },
  "toc": {
   "base_numbering": 1,
   "nav_menu": {},
   "number_sections": true,
   "sideBar": true,
   "skip_h1_title": false,
   "title_cell": "Table of Contents",
   "title_sidebar": "Contents",
   "toc_cell": false,
   "toc_position": {},
   "toc_section_display": true,
   "toc_window_display": false
  },
  "varInspector": {
   "cols": {
    "lenName": 16,
    "lenType": 16,
    "lenVar": 40
   },
   "kernels_config": {
    "python": {
     "delete_cmd_postfix": "",
     "delete_cmd_prefix": "del ",
     "library": "var_list.py",
     "varRefreshCmd": "print(var_dic_list())"
    },
    "r": {
     "delete_cmd_postfix": ") ",
     "delete_cmd_prefix": "rm(",
     "library": "var_list.r",
     "varRefreshCmd": "cat(var_dic_list()) "
    }
   },
   "types_to_exclude": [
    "module",
    "function",
    "builtin_function_or_method",
    "instance",
    "_Feature"
   ],
   "window_display": false
  }
 },
 "nbformat": 4,
 "nbformat_minor": 4
}
