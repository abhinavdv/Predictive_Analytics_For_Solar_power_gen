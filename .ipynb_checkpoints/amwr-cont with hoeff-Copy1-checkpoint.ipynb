{
 "cells": [
  {
   "cell_type": "code",
   "execution_count": 1,
   "metadata": {
    "ExecuteTime": {
     "end_time": "2021-04-30T13:04:09.036469Z",
     "start_time": "2021-04-30T13:04:07.626707Z"
    }
   },
   "outputs": [],
   "source": [
    "\n",
    "import urllib\n",
    "import xml.etree.ElementTree as ET\n",
    "import urllib\n",
    "import re\n",
    "import io, random\n",
    "import pandas as pd\n",
    "import time\n",
    "from datetime import datetime\n",
    "from sklearn.svm import SVR\n",
    "import datetime\n",
    "from skmultiflow.meta import AdaptiveRandomForestRegressor\n",
    "from skmultiflow.trees import HoeffdingTreeRegressor\n",
    "import matplotlib.pyplot as plt\n",
    "from sklearn.tree import DecisionTreeRegressor"
   ]
  },
  {
   "cell_type": "code",
   "execution_count": 2,
   "metadata": {
    "ExecuteTime": {
     "end_time": "2021-04-30T13:04:11.547409Z",
     "start_time": "2021-04-30T13:04:11.375337Z"
    }
   },
   "outputs": [],
   "source": [
    "df=pd.read_csv(\"merged_final.csv\")"
   ]
  },
  {
   "cell_type": "code",
   "execution_count": 3,
   "metadata": {
    "ExecuteTime": {
     "end_time": "2021-04-30T13:04:11.705302Z",
     "start_time": "2021-04-30T13:04:11.681303Z"
    }
   },
   "outputs": [
    {
     "data": {
      "text/html": [
       "<div>\n",
       "<style scoped>\n",
       "    .dataframe tbody tr th:only-of-type {\n",
       "        vertical-align: middle;\n",
       "    }\n",
       "\n",
       "    .dataframe tbody tr th {\n",
       "        vertical-align: top;\n",
       "    }\n",
       "\n",
       "    .dataframe thead th {\n",
       "        text-align: right;\n",
       "    }\n",
       "</style>\n",
       "<table border=\"1\" class=\"dataframe\">\n",
       "  <thead>\n",
       "    <tr style=\"text-align: right;\">\n",
       "      <th></th>\n",
       "      <th>Unnamed: 0</th>\n",
       "      <th>DATE_TIME</th>\n",
       "      <th>PLANT_ID</th>\n",
       "      <th>SCE_KEY</th>\n",
       "      <th>DC_POWER</th>\n",
       "      <th>AC_POWER</th>\n",
       "      <th>DAILY_YIELD</th>\n",
       "      <th>TOTAL_YIELD</th>\n",
       "      <th>PLANT_ID.1</th>\n",
       "      <th>SOURCE_KEY</th>\n",
       "      <th>AMBIENT_TEMPERATURE</th>\n",
       "      <th>MODULE_TEMPERATURE</th>\n",
       "      <th>IRRADIATION</th>\n",
       "    </tr>\n",
       "  </thead>\n",
       "  <tbody>\n",
       "    <tr>\n",
       "      <th>0</th>\n",
       "      <td>0</td>\n",
       "      <td>15-05-2020 00:00</td>\n",
       "      <td>4135001</td>\n",
       "      <td>1BY6WEcLGh8j5v7</td>\n",
       "      <td>0.0</td>\n",
       "      <td>0.0</td>\n",
       "      <td>0.0</td>\n",
       "      <td>6259559.0</td>\n",
       "      <td>4135001</td>\n",
       "      <td>HmiyD2TTLFNqkNe</td>\n",
       "      <td>25.184316</td>\n",
       "      <td>22.857507</td>\n",
       "      <td>0.0</td>\n",
       "    </tr>\n",
       "    <tr>\n",
       "      <th>1</th>\n",
       "      <td>1</td>\n",
       "      <td>15-05-2020 00:00</td>\n",
       "      <td>4135001</td>\n",
       "      <td>1IF53ai7Xc0U56Y</td>\n",
       "      <td>0.0</td>\n",
       "      <td>0.0</td>\n",
       "      <td>0.0</td>\n",
       "      <td>6183645.0</td>\n",
       "      <td>4135001</td>\n",
       "      <td>HmiyD2TTLFNqkNe</td>\n",
       "      <td>25.184316</td>\n",
       "      <td>22.857507</td>\n",
       "      <td>0.0</td>\n",
       "    </tr>\n",
       "    <tr>\n",
       "      <th>2</th>\n",
       "      <td>2</td>\n",
       "      <td>15-05-2020 00:00</td>\n",
       "      <td>4135001</td>\n",
       "      <td>3PZuoBAID5Wc2HD</td>\n",
       "      <td>0.0</td>\n",
       "      <td>0.0</td>\n",
       "      <td>0.0</td>\n",
       "      <td>6987759.0</td>\n",
       "      <td>4135001</td>\n",
       "      <td>HmiyD2TTLFNqkNe</td>\n",
       "      <td>25.184316</td>\n",
       "      <td>22.857507</td>\n",
       "      <td>0.0</td>\n",
       "    </tr>\n",
       "    <tr>\n",
       "      <th>3</th>\n",
       "      <td>3</td>\n",
       "      <td>15-05-2020 00:00</td>\n",
       "      <td>4135001</td>\n",
       "      <td>7JYdWkrLSPkdwr4</td>\n",
       "      <td>0.0</td>\n",
       "      <td>0.0</td>\n",
       "      <td>0.0</td>\n",
       "      <td>7602960.0</td>\n",
       "      <td>4135001</td>\n",
       "      <td>HmiyD2TTLFNqkNe</td>\n",
       "      <td>25.184316</td>\n",
       "      <td>22.857507</td>\n",
       "      <td>0.0</td>\n",
       "    </tr>\n",
       "    <tr>\n",
       "      <th>4</th>\n",
       "      <td>4</td>\n",
       "      <td>15-05-2020 00:00</td>\n",
       "      <td>4135001</td>\n",
       "      <td>McdE0feGgRqW7Ca</td>\n",
       "      <td>0.0</td>\n",
       "      <td>0.0</td>\n",
       "      <td>0.0</td>\n",
       "      <td>7158964.0</td>\n",
       "      <td>4135001</td>\n",
       "      <td>HmiyD2TTLFNqkNe</td>\n",
       "      <td>25.184316</td>\n",
       "      <td>22.857507</td>\n",
       "      <td>0.0</td>\n",
       "    </tr>\n",
       "  </tbody>\n",
       "</table>\n",
       "</div>"
      ],
      "text/plain": [
       "   Unnamed: 0         DATE_TIME  PLANT_ID          SCE_KEY  DC_POWER  \\\n",
       "0           0  15-05-2020 00:00   4135001  1BY6WEcLGh8j5v7       0.0   \n",
       "1           1  15-05-2020 00:00   4135001  1IF53ai7Xc0U56Y       0.0   \n",
       "2           2  15-05-2020 00:00   4135001  3PZuoBAID5Wc2HD       0.0   \n",
       "3           3  15-05-2020 00:00   4135001  7JYdWkrLSPkdwr4       0.0   \n",
       "4           4  15-05-2020 00:00   4135001  McdE0feGgRqW7Ca       0.0   \n",
       "\n",
       "   AC_POWER  DAILY_YIELD  TOTAL_YIELD  PLANT_ID.1       SOURCE_KEY  \\\n",
       "0       0.0          0.0    6259559.0     4135001  HmiyD2TTLFNqkNe   \n",
       "1       0.0          0.0    6183645.0     4135001  HmiyD2TTLFNqkNe   \n",
       "2       0.0          0.0    6987759.0     4135001  HmiyD2TTLFNqkNe   \n",
       "3       0.0          0.0    7602960.0     4135001  HmiyD2TTLFNqkNe   \n",
       "4       0.0          0.0    7158964.0     4135001  HmiyD2TTLFNqkNe   \n",
       "\n",
       "   AMBIENT_TEMPERATURE  MODULE_TEMPERATURE  IRRADIATION  \n",
       "0            25.184316           22.857507          0.0  \n",
       "1            25.184316           22.857507          0.0  \n",
       "2            25.184316           22.857507          0.0  \n",
       "3            25.184316           22.857507          0.0  \n",
       "4            25.184316           22.857507          0.0  "
      ]
     },
     "execution_count": 3,
     "metadata": {},
     "output_type": "execute_result"
    }
   ],
   "source": [
    "df.head()"
   ]
  },
  {
   "cell_type": "code",
   "execution_count": 9,
   "metadata": {
    "ExecuteTime": {
     "end_time": "2021-04-30T13:12:53.203735Z",
     "start_time": "2021-04-30T13:12:53.189728Z"
    },
    "code_folding": []
   },
   "outputs": [],
   "source": [
    "def pred_svr(x, y, x_test):\n",
    "    svr_rbf = SVR(kernel='rbf', C=1e3, gamma=0.1)\n",
    "    y_rbf = svr_rbf.fit(x, np.ravel(y,order='C'))\n",
    "    return svr_rbf.predict(x_test)\n",
    "\n",
    "def pred_rff(x, y, x_test):\n",
    "    arf_reg = AdaptiveRandomForestRegressor(random_state=123456)\n",
    "    arf_reg.fit(np.array(x), np.ravel(y,order='C'))\n",
    "    return arf_reg.predict(x_test)\n",
    " \n",
    "def pred_hoe(x, y, x_test):\n",
    "    arf_reg = HoeffdingTreeRegressor()\n",
    "    #arf_reg = DecisionTreeRegressor(random_state=0)\n",
    "    arf_reg.fit(np.array(x), np.ravel(y,order='C'))\n",
    "    return arf_reg.predict(x_test)\n",
    "\n",
    "def algorithms_pred(df):\n",
    "    x_total = df[[\"AMBIENT_TEMPERATURE\",\"MODULE_TEMPERATURE\",\"IRRADIATION\"]].to_numpy().tolist()\n",
    "    y_total = df[[\"DAILY_YIELD\"]].to_numpy().tolist()\n",
    "    x = x_total[:len(df)-1]\n",
    "    y = y_total[:len(df)-1]\n",
    "    x_test = x_total[len(df)-1:]\n",
    "    y_test = y_total[len(df)-1:]\n",
    "    y_pred_svr = pred_svr(x,y,x_test)\n",
    "    y_pred_rff = pred_rff(x,y,x_test)\n",
    "    y_pred_hoe = pred_hoe(x,y,x_test)\n",
    "    y_pred_ensemb = (1/3)*np.add(np.add(y_pred_rff,y_pred_svr),y_pred_hoe)\n",
    "    if(y_test!=0):\n",
    "        MAPE_list.append([y_test[0][0],y_pred_svr[0]])\n",
    "        MAPE_list2.append([y_test[0][0],y_pred_rff[0]])\n",
    "        MAPE_list3.append([y_test[0][0],y_pred_hoe[0]])\n",
    "        MAPE_list_ensemb.append([y_test[0][0],y_pred_ensemb[0]])\n",
    "        \n",
    "# def otherAlgorithm(df):\n",
    "#     x_total = df[[\"AMBIENT_TEMPERATURE\",\"MODULE_TEMPERATURE\",\"IRRADIATION\"]].to_numpy().tolist()\n",
    "#     y_total = df[[\"DAILY_YIELD\"]].to_numpy().tolist()\n",
    "#     x = x_total[:len(df)-1]\n",
    "#     y MAPE_list[:len(df)-1]\n",
    "#     x_test = x_total[len(df)-1:]\n",
    "#     y_test = y_total[len(df)-1:]\n",
    "    \n",
    "#     if(y_test!=0):\n",
    "#         MAPE_list2.append([y_test[0][0],y_pred[0]])"
   ]
  },
  {
   "cell_type": "code",
   "execution_count": 10,
   "metadata": {
    "ExecuteTime": {
     "end_time": "2021-04-30T13:12:53.549087Z",
     "start_time": "2021-04-30T13:12:53.530358Z"
    }
   },
   "outputs": [],
   "source": [
    "def dataprocess(df,dt_start):\n",
    "    dt_end=dt_start+datetime.timedelta(0,TrainingWindow*time_sampling)\n",
    "    #print(dt_start,dt_end)\n",
    "    #print(sensor_list)\n",
    "    #df = df.set_index(['DATE_TIME'])\n",
    "    #print(df.loc[dt_start:dt_end])\n",
    "    df['DATE_TIME'] = pd.to_datetime(df['DATE_TIME'])\n",
    "    mask = (df['DATE_TIME'] > dt_start) & (df['DATE_TIME'] <= dt_end)\n",
    "    df_proc=df.loc[mask]\n",
    "    for i in sensor_list:\n",
    "        msk=(df_proc['SCE_KEY']==i[0])\n",
    "        df_proc_sen=df_proc.loc[msk]\n",
    "        algorithms_pred(df_proc_sen)\n",
    "    \n",
    "    "
   ]
  },
  {
   "cell_type": "code",
   "execution_count": 11,
   "metadata": {
    "ExecuteTime": {
     "end_time": "2021-04-30T13:12:56.531694Z",
     "start_time": "2021-04-30T13:12:53.974180Z"
    }
   },
   "outputs": [
    {
     "name": "stdout",
     "output_type": "stream",
     "text": [
      "MAPE for amwr is: 17.708557447865406\n",
      "MAPE for rff is: 8.670288661931917\n",
      "MAPE for hoeff is: 36.99565425738579\n",
      "MAPE for ensemble is: 21.12483345572771\n"
     ]
    }
   ],
   "source": [
    "#constant parameters\n",
    "TrainingWindow = 30   #window size is found from historical data\n",
    "PredictionWindow = 3   #prediction window/prediction horizon\n",
    "time_sampling = 900 #Should be equal to data refreshing time\n",
    "sensor_list=df[[\"SCE_KEY\"]].to_numpy().tolist()\n",
    "sensor_list=sensor_list[0:20]\n",
    "\n",
    "#main function\n",
    "if __name__ == '__main__':\n",
    "    MAPE_list = list()\n",
    "    MAPE_list2 = list()\n",
    "    MAPE_list3 = list()\n",
    "    MAPE_list_ensemb = list()\n",
    "    date=datetime.datetime(2020, 5, 25, 6, 15)\n",
    "    dataprocess(df,date)\n",
    "    #print(MAPE_list)\n",
    "    MAPE_npArray = np.array(MAPE_list)\n",
    "    MAPE_npArray2 = np.array(MAPE_list2)\n",
    "    MAPE_npArray3 = np.array(MAPE_list3)\n",
    "    MAPE_npArray_ensemb = np.array(MAPE_list_ensemb)\n",
    "    #print(MAPE_npArray[:,0])\n",
    "    mape = np.mean(np.abs((MAPE_npArray[:,0] - MAPE_npArray[:,1])/MAPE_npArray[:,0]))*100\n",
    "    mape2 = np.mean(np.abs((MAPE_npArray2[:,0] - MAPE_npArray2[:,1])/MAPE_npArray2[:,0]))*100\n",
    "    mape3 = np.mean(np.abs((MAPE_npArray3[:,0] - MAPE_npArray3[:,1])/MAPE_npArray3[:,0]))*100\n",
    "    mape_ensemb = np.mean(np.abs((MAPE_npArray_ensemb[:,0] - MAPE_npArray_ensemb[:,1])/MAPE_npArray_ensemb[:,0]))*100\n",
    "    print(\"MAPE for amwr is: \"+ str(mape))\n",
    "    print(\"MAPE for rff is: \"+ str(mape2))\n",
    "    print(\"MAPE for hoeff is: \"+ str(mape3))\n",
    "    print(\"MAPE for ensemble is: \"+ str(mape_ensemb))\n",
    "    list1 = list()\n",
    "    list1.append(mape)\n",
    "    list1.append(mape2)\n",
    "    list1.append(mape3)\n",
    "    list1.append(mape_ensemb)"
   ]
  },
  {
   "cell_type": "code",
   "execution_count": 12,
   "metadata": {
    "ExecuteTime": {
     "end_time": "2021-04-30T13:12:56.803299Z",
     "start_time": "2021-04-30T13:12:56.617660Z"
    }
   },
   "outputs": [
    {
     "data": {
      "image/png": "[encoded data removed]",
      "text/plain": [
       "<Figure size 432x288 with 1 Axes>"
      ]
     },
     "metadata": {
      "needs_background": "light"
     },
     "output_type": "display_data"
    }
   ],
   "source": [
    "objects = ('svr_rbf', 'random forest', 'Hoeffidger', 'Ensemble_mean')\n",
    "y_pos = np.arange(len(objects))\n",
    "\n",
    "plt.bar(y_pos, list1, align='center', alpha=0.5)\n",
    "plt.xticks(y_pos, objects)\n",
    "plt.ylabel('algorithms')\n",
    "plt.title('MAPE')\n",
    "\n",
    "plt.show()"
   ]
  },
  {
   "cell_type": "code",
   "execution_count": null,
   "metadata": {},
   "outputs": [],
   "source": []
  }
 ],
 "metadata": {
  "kernelspec": {
   "display_name": "Python 3",
   "language": "python",
   "name": "python3"
  },
  "language_info": {
   "codemirror_mode": {
    "name": "ipython",
    "version": 3
   },
   "file_extension": ".py",
   "mimetype": "text/x-python",
   "name": "python",
   "nbconvert_exporter": "python",
   "pygments_lexer": "ipython3",
   "version": "3.8.3"
  },
  "toc": {
   "base_numbering": 1,
   "nav_menu": {},
   "number_sections": true,
   "sideBar": true,
   "skip_h1_title": false,
   "title_cell": "Table of Contents",
   "title_sidebar": "Contents",
   "toc_cell": false,
   "toc_position": {},
   "toc_section_display": true,
   "toc_window_display": false
  },
  "varInspector": {
   "cols": {
    "lenName": 16,
    "lenType": 16,
    "lenVar": 40
   },
   "kernels_config": {
    "python": {
     "delete_cmd_postfix": "",
     "delete_cmd_prefix": "del ",
     "library": "var_list.py",
     "varRefreshCmd": "print(var_dic_list())"
    },
    "r": {
     "delete_cmd_postfix": ") ",
     "delete_cmd_prefix": "rm(",
     "library": "var_list.r",
     "varRefreshCmd": "cat(var_dic_list()) "
    }
   },
   "types_to_exclude": [
    "module",
    "function",
    "builtin_function_or_method",
    "instance",
    "_Feature"
   ],
   "window_display": false
  }
 },
 "nbformat": 4,
 "nbformat_minor": 4
}
