{
 "cells": [
  {
   "cell_type": "code",
   "execution_count": 22,
   "metadata": {
    "ExecuteTime": {
     "end_time": "2021-03-27T06:34:29.490256Z",
     "start_time": "2021-03-27T06:34:29.486254Z"
    }
   },
   "outputs": [],
   "source": [
    "\n",
    "import urllib\n",
    "import xml.etree.ElementTree as ET\n",
    "import urllib\n",
    "import re\n",
    "import io, random\n",
    "import pandas as pd\n",
    "import time\n",
    "from datetime import datetime\n",
    "from sklearn.svm import SVR\n",
    "import datetime\n"
   ]
  },
  {
   "cell_type": "code",
   "execution_count": 23,
   "metadata": {
    "ExecuteTime": {
     "end_time": "2021-03-27T06:34:29.999175Z",
     "start_time": "2021-03-27T06:34:29.822933Z"
    }
   },
   "outputs": [],
   "source": [
    "df=pd.read_csv(\"merged_final.csv\")"
   ]
  },
  {
   "cell_type": "code",
   "execution_count": 24,
   "metadata": {
    "ExecuteTime": {
     "end_time": "2021-03-27T06:34:30.099249Z",
     "start_time": "2021-03-27T06:34:30.081719Z"
    }
   },
   "outputs": [
    {
     "data": {
      "text/html": [
       "<div>\n",
       "<style scoped>\n",
       "    .dataframe tbody tr th:only-of-type {\n",
       "        vertical-align: middle;\n",
       "    }\n",
       "\n",
       "    .dataframe tbody tr th {\n",
       "        vertical-align: top;\n",
       "    }\n",
       "\n",
       "    .dataframe thead th {\n",
       "        text-align: right;\n",
       "    }\n",
       "</style>\n",
       "<table border=\"1\" class=\"dataframe\">\n",
       "  <thead>\n",
       "    <tr style=\"text-align: right;\">\n",
       "      <th></th>\n",
       "      <th>Unnamed: 0</th>\n",
       "      <th>DATE_TIME</th>\n",
       "      <th>PLANT_ID</th>\n",
       "      <th>SCE_KEY</th>\n",
       "      <th>DC_POWER</th>\n",
       "      <th>AC_POWER</th>\n",
       "      <th>DAILY_YIELD</th>\n",
       "      <th>TOTAL_YIELD</th>\n",
       "      <th>PLANT_ID.1</th>\n",
       "      <th>SOURCE_KEY</th>\n",
       "      <th>AMBIENT_TEMPERATURE</th>\n",
       "      <th>MODULE_TEMPERATURE</th>\n",
       "      <th>IRRADIATION</th>\n",
       "    </tr>\n",
       "  </thead>\n",
       "  <tbody>\n",
       "    <tr>\n",
       "      <th>0</th>\n",
       "      <td>0</td>\n",
       "      <td>15-05-2020 00:00</td>\n",
       "      <td>4135001</td>\n",
       "      <td>1BY6WEcLGh8j5v7</td>\n",
       "      <td>0.0</td>\n",
       "      <td>0.0</td>\n",
       "      <td>0.0</td>\n",
       "      <td>6259559.0</td>\n",
       "      <td>4135001</td>\n",
       "      <td>HmiyD2TTLFNqkNe</td>\n",
       "      <td>25.184316</td>\n",
       "      <td>22.857507</td>\n",
       "      <td>0.0</td>\n",
       "    </tr>\n",
       "    <tr>\n",
       "      <th>1</th>\n",
       "      <td>1</td>\n",
       "      <td>15-05-2020 00:00</td>\n",
       "      <td>4135001</td>\n",
       "      <td>1IF53ai7Xc0U56Y</td>\n",
       "      <td>0.0</td>\n",
       "      <td>0.0</td>\n",
       "      <td>0.0</td>\n",
       "      <td>6183645.0</td>\n",
       "      <td>4135001</td>\n",
       "      <td>HmiyD2TTLFNqkNe</td>\n",
       "      <td>25.184316</td>\n",
       "      <td>22.857507</td>\n",
       "      <td>0.0</td>\n",
       "    </tr>\n",
       "    <tr>\n",
       "      <th>2</th>\n",
       "      <td>2</td>\n",
       "      <td>15-05-2020 00:00</td>\n",
       "      <td>4135001</td>\n",
       "      <td>3PZuoBAID5Wc2HD</td>\n",
       "      <td>0.0</td>\n",
       "      <td>0.0</td>\n",
       "      <td>0.0</td>\n",
       "      <td>6987759.0</td>\n",
       "      <td>4135001</td>\n",
       "      <td>HmiyD2TTLFNqkNe</td>\n",
       "      <td>25.184316</td>\n",
       "      <td>22.857507</td>\n",
       "      <td>0.0</td>\n",
       "    </tr>\n",
       "    <tr>\n",
       "      <th>3</th>\n",
       "      <td>3</td>\n",
       "      <td>15-05-2020 00:00</td>\n",
       "      <td>4135001</td>\n",
       "      <td>7JYdWkrLSPkdwr4</td>\n",
       "      <td>0.0</td>\n",
       "      <td>0.0</td>\n",
       "      <td>0.0</td>\n",
       "      <td>7602960.0</td>\n",
       "      <td>4135001</td>\n",
       "      <td>HmiyD2TTLFNqkNe</td>\n",
       "      <td>25.184316</td>\n",
       "      <td>22.857507</td>\n",
       "      <td>0.0</td>\n",
       "    </tr>\n",
       "    <tr>\n",
       "      <th>4</th>\n",
       "      <td>4</td>\n",
       "      <td>15-05-2020 00:00</td>\n",
       "      <td>4135001</td>\n",
       "      <td>McdE0feGgRqW7Ca</td>\n",
       "      <td>0.0</td>\n",
       "      <td>0.0</td>\n",
       "      <td>0.0</td>\n",
       "      <td>7158964.0</td>\n",
       "      <td>4135001</td>\n",
       "      <td>HmiyD2TTLFNqkNe</td>\n",
       "      <td>25.184316</td>\n",
       "      <td>22.857507</td>\n",
       "      <td>0.0</td>\n",
       "    </tr>\n",
       "  </tbody>\n",
       "</table>\n",
       "</div>"
      ],
      "text/plain": [
       "   Unnamed: 0         DATE_TIME  PLANT_ID          SCE_KEY  DC_POWER  \\\n",
       "0           0  15-05-2020 00:00   4135001  1BY6WEcLGh8j5v7       0.0   \n",
       "1           1  15-05-2020 00:00   4135001  1IF53ai7Xc0U56Y       0.0   \n",
       "2           2  15-05-2020 00:00   4135001  3PZuoBAID5Wc2HD       0.0   \n",
       "3           3  15-05-2020 00:00   4135001  7JYdWkrLSPkdwr4       0.0   \n",
       "4           4  15-05-2020 00:00   4135001  McdE0feGgRqW7Ca       0.0   \n",
       "\n",
       "   AC_POWER  DAILY_YIELD  TOTAL_YIELD  PLANT_ID.1       SOURCE_KEY  \\\n",
       "0       0.0          0.0    6259559.0     4135001  HmiyD2TTLFNqkNe   \n",
       "1       0.0          0.0    6183645.0     4135001  HmiyD2TTLFNqkNe   \n",
       "2       0.0          0.0    6987759.0     4135001  HmiyD2TTLFNqkNe   \n",
       "3       0.0          0.0    7602960.0     4135001  HmiyD2TTLFNqkNe   \n",
       "4       0.0          0.0    7158964.0     4135001  HmiyD2TTLFNqkNe   \n",
       "\n",
       "   AMBIENT_TEMPERATURE  MODULE_TEMPERATURE  IRRADIATION  \n",
       "0            25.184316           22.857507          0.0  \n",
       "1            25.184316           22.857507          0.0  \n",
       "2            25.184316           22.857507          0.0  \n",
       "3            25.184316           22.857507          0.0  \n",
       "4            25.184316           22.857507          0.0  "
      ]
     },
     "execution_count": 24,
     "metadata": {},
     "output_type": "execute_result"
    }
   ],
   "source": [
    "df.head()"
   ]
  },
  {
   "cell_type": "code",
   "execution_count": 44,
   "metadata": {
    "ExecuteTime": {
     "end_time": "2021-03-27T06:48:10.411678Z",
     "start_time": "2021-03-27T06:48:10.399171Z"
    }
   },
   "outputs": [],
   "source": [
    "def pred(x, y, x_test):\n",
    "    svr_rbf = SVR(kernel='rbf', C=1e3, gamma=0.1)\n",
    "    y_rbf = svr_rbf.fit(x, np.ravel(y,order='C'))\n",
    "    return svr_rbf.predict(x_test)\n",
    "\n",
    " \n",
    "\n",
    "def AMWR(df):\n",
    "    x_total = df[[\"AMBIENT_TEMPERATURE\",\"MODULE_TEMPERATURE\",\"IRRADIATION\"]].to_numpy().tolist()\n",
    "    y_total = df[[\"DAILY_YIELD\"]].to_numpy().tolist()\n",
    "    x = x_total[:len(df)-1]\n",
    "    y = y_total[:len(df)-1]\n",
    "    x_test = x_total[len(df)-1:]\n",
    "    y_test = y_total[len(df)-1:]\n",
    "    y_pred = pred(x,y,x_test)\n",
    "    if(y_test!=0):\n",
    "        MAPE_list.append([y_test[0][0],y_pred[0]])"
   ]
  },
  {
   "cell_type": "code",
   "execution_count": 45,
   "metadata": {
    "ExecuteTime": {
     "end_time": "2021-03-27T06:48:10.803862Z",
     "start_time": "2021-03-27T06:48:10.783330Z"
    }
   },
   "outputs": [],
   "source": [
    "def dataprocess(df,dt_start):\n",
    "    dt_end=dt_start+datetime.timedelta(0,TrainingWindow*time_sampling)\n",
    "    #print(dt_start,dt_end)\n",
    "    #print(sensor_list)\n",
    "    #df = df.set_index(['DATE_TIME'])\n",
    "    #print(df.loc[dt_start:dt_end])\n",
    "    df['DATE_TIME'] = pd.to_datetime(df['DATE_TIME'])\n",
    "    mask = (df['DATE_TIME'] > dt_start) & (df['DATE_TIME'] <= dt_end)\n",
    "    df_proc=df.loc[mask]\n",
    "    for i in sensor_list:\n",
    "        msk=(df_proc['SCE_KEY']==i[0])\n",
    "        df_proc_sen=df_proc.loc[msk]\n",
    "        AMWR(df_proc_sen)\n",
    "    \n",
    "    "
   ]
  },
  {
   "cell_type": "code",
   "execution_count": 56,
   "metadata": {
    "ExecuteTime": {
     "end_time": "2021-03-27T06:53:35.367755Z",
     "start_time": "2021-03-27T06:53:35.191417Z"
    }
   },
   "outputs": [
    {
     "name": "stdout",
     "output_type": "stream",
     "text": [
      "[[5951.0, 5001.349273357164], [6507.428571, 5314.106613749326], [6520.285714, 5324.146679710648], [6311.0, 5204.504597943816], [6447.142857, 5246.926925260154], [6482.142857, 5295.952421133673], [6388.714286, 5260.934964068658], [6383.285714, 5223.72614074077], [6235.285714, 5127.083185720567], [6600.857143, 5363.0920782623425], [5829.142857, 4933.92332268176], [6337.0, 5194.78450438123], [5655.857143, 4735.675131332344], [6259.714286, 5112.425899817844], [6264.125, 5151.030559757643], [6282.142857, 5167.174161880497], [6321.142857, 5162.472531164948], [6371.428571, 5204.672972631726], [6337.571429, 5201.7494185161395], [6018.714286, 5014.948750760932]]\n",
      "[5951.       6507.428571 6520.285714 6311.       6447.142857 6482.142857\n",
      " 6388.714286 6383.285714 6235.285714 6600.857143 5829.142857 6337.\n",
      " 5655.857143 6259.714286 6264.125    6282.142857 6321.142857 6371.428571\n",
      " 6337.571429 6018.714286]\n",
      "MAPE is: 17.708557447865406\n"
     ]
    }
   ],
   "source": [
    "#constant parameters\n",
    "TrainingWindow = 30    #window size is found from historical data\n",
    "PredictionWindow = 3   #prediction window/prediction horizon\n",
    "time_sampling = 900 #Should be equal to data refreshing time\n",
    "sensor_list=df[[\"SCE_KEY\"]].to_numpy().tolist()\n",
    "sensor_list=sensor_list[0:20]\n",
    "\n",
    "#main function\n",
    "if __name__ == '__main__':\n",
    "    MAPE_list = list()\n",
    "    date=datetime.datetime(2020, 5, 25, 6, 15)\n",
    "    dataprocess(df,date)\n",
    "    print(MAPE_list)\n",
    "    MAPE_npArray = np.array(MAPE_list)\n",
    "    print(MAPE_npArray[:,0])\n",
    "    mape = np.mean(np.abs((MAPE_npArray[:,0] - MAPE_npArray[:,1])/MAPE_npArray[:,0]))*100\n",
    "    print(\"MAPE is: \"+ str(mape))"
   ]
  },
  {
   "cell_type": "code",
   "execution_count": 58,
   "metadata": {
    "ExecuteTime": {
     "end_time": "2021-03-27T07:08:04.314528Z",
     "start_time": "2021-03-27T07:07:58.760134Z"
    }
   },
   "outputs": [
    {
     "name": "stdout",
     "output_type": "stream",
     "text": [
      "MAPE is: 39.176630046371116Training window is: 11\n",
      "MAPE is: 43.81496842026997Training window is: 12\n",
      "MAPE is: 22.654531463046457Training window is: 13\n",
      "MAPE is: 34.728435530541425Training window is: 14\n",
      "MAPE is: 27.080841481674067Training window is: 15\n",
      "MAPE is: 27.434919390564332Training window is: 16\n",
      "MAPE is: 36.94354718572881Training window is: 17\n",
      "MAPE is: 48.72353532171143Training window is: 18\n",
      "MAPE is: 37.78776987669959Training window is: 19\n",
      "MAPE is: 30.63274223547757Training window is: 20\n",
      "MAPE is: 21.55357131855311Training window is: 21\n",
      "MAPE is: 32.654171295743645Training window is: 22\n",
      "MAPE is: 24.985452071141587Training window is: 23\n",
      "MAPE is: 25.377493763357418Training window is: 24\n",
      "MAPE is: 19.283433479109163Training window is: 25\n",
      "MAPE is: 35.97811127120803Training window is: 26\n",
      "MAPE is: 27.796053557330154Training window is: 27\n",
      "MAPE is: 28.662436638343237Training window is: 28\n",
      "MAPE is: 20.325535125106626Training window is: 29\n",
      "MAPE is: 17.708557447865406Training window is: 30\n",
      "MAPE is: 21.72737903594361Training window is: 31\n",
      "MAPE is: 19.73476030955453Training window is: 32\n",
      "MAPE is: 50.58353586861085Training window is: 33\n",
      "MAPE is: 61.416083528637444Training window is: 34\n",
      "MAPE is: 31.048021085713074Training window is: 35\n",
      "MAPE is: 46.9679779387903Training window is: 36\n",
      "MAPE is: 74.4486389479445Training window is: 37\n",
      "MAPE is: 59.30668102241439Training window is: 38\n",
      "MAPE is: 44.61017528190238Training window is: 39\n",
      "MAPE is: 68.70888887164297Training window is: 40\n",
      "MAPE is: 71.3929005160283Training window is: 41\n",
      "MAPE is: 68.09279876749292Training window is: 42\n",
      "MAPE is: 58.56429988138696Training window is: 43\n",
      "MAPE is: 48.153253293981024Training window is: 44\n",
      "MAPE is: 38.35026495375791Training window is: 45\n",
      "MAPE is: 39.93701136869356Training window is: 46\n",
      "MAPE is: 50.80694828159411Training window is: 47\n",
      "MAPE is: 47.96684345091048Training window is: 48\n",
      "MAPE is: 46.12387636983469Training window is: 49\n",
      "MAPE is: 45.39761945137569Training window is: 50\n",
      "MAPE is: 37.14204003044211Training window is: 51\n",
      "MAPE is: 25.601052098452715Training window is: 52\n",
      "MAPE is: 23.238312945671446Training window is: 53\n",
      "MAPE is: 25.71454372284186Training window is: 54\n",
      "MAPE is: 25.36080103118053Training window is: 55\n",
      "MAPE is: 15.114154637438206Training window is: 56\n",
      "MAPE is: 3.4046293032664376Training window is: 57\n",
      "MAPE is: 3.135641943216791Training window is: 58\n",
      "MAPE is: 3.9466612800701726Training window is: 59\n",
      "MAPE is: 4.383680496116886Training window is: 60\n",
      "MAPE is: 25.81934073343285Training window is: 61\n",
      "MAPE is: 50.46457198556935Training window is: 62\n",
      "MAPE is: 44.885818737662056Training window is: 63\n",
      "MAPE is: 32.318258865443575Training window is: 64\n",
      "MAPE is: 19.364563099324045Training window is: 65\n",
      "MAPE is: 7.047135201547236Training window is: 66\n",
      "MAPE is: 2.2508042338141383Training window is: 67\n",
      "MAPE is: 3.324948810840689Training window is: 68\n",
      "MAPE is: 2.4170264979795917Training window is: 69\n",
      "MAPE is: 17.616731339038893Training window is: 70\n",
      "MAPE is: infTraining window is: 71\n",
      "MAPE is: infTraining window is: 72\n"
     ]
    },
    {
     "name": "stderr",
     "output_type": "stream",
     "text": [
      "<ipython-input-58-9aaa14c787b2>:16: RuntimeWarning: divide by zero encountered in true_divide\n",
      "  mape = np.mean(np.abs((MAPE_npArray[:,0] - MAPE_npArray[:,1])/MAPE_npArray[:,0]))*100\n",
      "<ipython-input-58-9aaa14c787b2>:16: RuntimeWarning: divide by zero encountered in true_divide\n",
      "  mape = np.mean(np.abs((MAPE_npArray[:,0] - MAPE_npArray[:,1])/MAPE_npArray[:,0]))*100\n",
      "<ipython-input-58-9aaa14c787b2>:16: RuntimeWarning: divide by zero encountered in true_divide\n",
      "  mape = np.mean(np.abs((MAPE_npArray[:,0] - MAPE_npArray[:,1])/MAPE_npArray[:,0]))*100\n",
      "<ipython-input-58-9aaa14c787b2>:16: RuntimeWarning: divide by zero encountered in true_divide\n",
      "  mape = np.mean(np.abs((MAPE_npArray[:,0] - MAPE_npArray[:,1])/MAPE_npArray[:,0]))*100\n"
     ]
    },
    {
     "name": "stdout",
     "output_type": "stream",
     "text": [
      "MAPE is: infTraining window is: 73\n",
      "MAPE is: infTraining window is: 74\n",
      "MAPE is: infTraining window is: 75\n"
     ]
    },
    {
     "name": "stderr",
     "output_type": "stream",
     "text": [
      "<ipython-input-58-9aaa14c787b2>:16: RuntimeWarning: divide by zero encountered in true_divide\n",
      "  mape = np.mean(np.abs((MAPE_npArray[:,0] - MAPE_npArray[:,1])/MAPE_npArray[:,0]))*100\n",
      "<ipython-input-58-9aaa14c787b2>:16: RuntimeWarning: divide by zero encountered in true_divide\n",
      "  mape = np.mean(np.abs((MAPE_npArray[:,0] - MAPE_npArray[:,1])/MAPE_npArray[:,0]))*100\n",
      "<ipython-input-58-9aaa14c787b2>:16: RuntimeWarning: divide by zero encountered in true_divide\n",
      "  mape = np.mean(np.abs((MAPE_npArray[:,0] - MAPE_npArray[:,1])/MAPE_npArray[:,0]))*100\n",
      "<ipython-input-58-9aaa14c787b2>:16: RuntimeWarning: divide by zero encountered in true_divide\n",
      "  mape = np.mean(np.abs((MAPE_npArray[:,0] - MAPE_npArray[:,1])/MAPE_npArray[:,0]))*100\n"
     ]
    },
    {
     "name": "stdout",
     "output_type": "stream",
     "text": [
      "MAPE is: infTraining window is: 76\n",
      "MAPE is: infTraining window is: 77\n",
      "MAPE is: infTraining window is: 78\n",
      "MAPE is: infTraining window is: 79\n"
     ]
    },
    {
     "name": "stderr",
     "output_type": "stream",
     "text": [
      "<ipython-input-58-9aaa14c787b2>:16: RuntimeWarning: divide by zero encountered in true_divide\n",
      "  mape = np.mean(np.abs((MAPE_npArray[:,0] - MAPE_npArray[:,1])/MAPE_npArray[:,0]))*100\n",
      "<ipython-input-58-9aaa14c787b2>:16: RuntimeWarning: divide by zero encountered in true_divide\n",
      "  mape = np.mean(np.abs((MAPE_npArray[:,0] - MAPE_npArray[:,1])/MAPE_npArray[:,0]))*100\n",
      "<ipython-input-58-9aaa14c787b2>:16: RuntimeWarning: divide by zero encountered in true_divide\n",
      "  mape = np.mean(np.abs((MAPE_npArray[:,0] - MAPE_npArray[:,1])/MAPE_npArray[:,0]))*100\n",
      "<ipython-input-58-9aaa14c787b2>:16: RuntimeWarning: divide by zero encountered in true_divide\n",
      "  mape = np.mean(np.abs((MAPE_npArray[:,0] - MAPE_npArray[:,1])/MAPE_npArray[:,0]))*100\n"
     ]
    },
    {
     "name": "stdout",
     "output_type": "stream",
     "text": [
      "MAPE is: infTraining window is: 80\n",
      "MAPE is: infTraining window is: 81\n",
      "MAPE is: infTraining window is: 82\n",
      "MAPE is: infTraining window is: 83\n"
     ]
    },
    {
     "name": "stderr",
     "output_type": "stream",
     "text": [
      "<ipython-input-58-9aaa14c787b2>:16: RuntimeWarning: divide by zero encountered in true_divide\n",
      "  mape = np.mean(np.abs((MAPE_npArray[:,0] - MAPE_npArray[:,1])/MAPE_npArray[:,0]))*100\n",
      "<ipython-input-58-9aaa14c787b2>:16: RuntimeWarning: divide by zero encountered in true_divide\n",
      "  mape = np.mean(np.abs((MAPE_npArray[:,0] - MAPE_npArray[:,1])/MAPE_npArray[:,0]))*100\n",
      "<ipython-input-58-9aaa14c787b2>:16: RuntimeWarning: divide by zero encountered in true_divide\n",
      "  mape = np.mean(np.abs((MAPE_npArray[:,0] - MAPE_npArray[:,1])/MAPE_npArray[:,0]))*100\n",
      "<ipython-input-58-9aaa14c787b2>:16: RuntimeWarning: divide by zero encountered in true_divide\n",
      "  mape = np.mean(np.abs((MAPE_npArray[:,0] - MAPE_npArray[:,1])/MAPE_npArray[:,0]))*100\n"
     ]
    },
    {
     "name": "stdout",
     "output_type": "stream",
     "text": [
      "MAPE is: infTraining window is: 84\n",
      "MAPE is: infTraining window is: 85\n",
      "MAPE is: infTraining window is: 86\n"
     ]
    },
    {
     "name": "stderr",
     "output_type": "stream",
     "text": [
      "<ipython-input-58-9aaa14c787b2>:16: RuntimeWarning: divide by zero encountered in true_divide\n",
      "  mape = np.mean(np.abs((MAPE_npArray[:,0] - MAPE_npArray[:,1])/MAPE_npArray[:,0]))*100\n",
      "<ipython-input-58-9aaa14c787b2>:16: RuntimeWarning: divide by zero encountered in true_divide\n",
      "  mape = np.mean(np.abs((MAPE_npArray[:,0] - MAPE_npArray[:,1])/MAPE_npArray[:,0]))*100\n",
      "<ipython-input-58-9aaa14c787b2>:16: RuntimeWarning: divide by zero encountered in true_divide\n",
      "  mape = np.mean(np.abs((MAPE_npArray[:,0] - MAPE_npArray[:,1])/MAPE_npArray[:,0]))*100\n"
     ]
    },
    {
     "name": "stdout",
     "output_type": "stream",
     "text": [
      "MAPE is: infTraining window is: 87\n",
      "MAPE is: infTraining window is: 88\n",
      "MAPE is: infTraining window is: 89\n"
     ]
    },
    {
     "name": "stderr",
     "output_type": "stream",
     "text": [
      "<ipython-input-58-9aaa14c787b2>:16: RuntimeWarning: divide by zero encountered in true_divide\n",
      "  mape = np.mean(np.abs((MAPE_npArray[:,0] - MAPE_npArray[:,1])/MAPE_npArray[:,0]))*100\n",
      "<ipython-input-58-9aaa14c787b2>:16: RuntimeWarning: divide by zero encountered in true_divide\n",
      "  mape = np.mean(np.abs((MAPE_npArray[:,0] - MAPE_npArray[:,1])/MAPE_npArray[:,0]))*100\n",
      "<ipython-input-58-9aaa14c787b2>:16: RuntimeWarning: divide by zero encountered in true_divide\n",
      "  mape = np.mean(np.abs((MAPE_npArray[:,0] - MAPE_npArray[:,1])/MAPE_npArray[:,0]))*100\n"
     ]
    },
    {
     "name": "stdout",
     "output_type": "stream",
     "text": [
      "MAPE is: infTraining window is: 90\n",
      "MAPE is: infTraining window is: 91\n",
      "MAPE is: infTraining window is: 92\n"
     ]
    },
    {
     "name": "stderr",
     "output_type": "stream",
     "text": [
      "<ipython-input-58-9aaa14c787b2>:16: RuntimeWarning: divide by zero encountered in true_divide\n",
      "  mape = np.mean(np.abs((MAPE_npArray[:,0] - MAPE_npArray[:,1])/MAPE_npArray[:,0]))*100\n",
      "<ipython-input-58-9aaa14c787b2>:16: RuntimeWarning: divide by zero encountered in true_divide\n",
      "  mape = np.mean(np.abs((MAPE_npArray[:,0] - MAPE_npArray[:,1])/MAPE_npArray[:,0]))*100\n",
      "<ipython-input-58-9aaa14c787b2>:16: RuntimeWarning: divide by zero encountered in true_divide\n",
      "  mape = np.mean(np.abs((MAPE_npArray[:,0] - MAPE_npArray[:,1])/MAPE_npArray[:,0]))*100\n"
     ]
    },
    {
     "name": "stdout",
     "output_type": "stream",
     "text": [
      "MAPE is: infTraining window is: 93\n",
      "MAPE is: infTraining window is: 94\n",
      "MAPE is: infTraining window is: 95\n",
      "MAPE is: 92626.86712315484Training window is: 96\n",
      "MAPE is: 13659.049872821959Training window is: 97\n",
      "MAPE is: 9411.59297592781Training window is: 98\n",
      "MAPE is: 6193.650967959546Training window is: 99\n"
     ]
    }
   ],
   "source": [
    "#constant parameters\n",
    "TrainingWindow = 10    #window size is found from historical data\n",
    "PredictionWindow = 3   #prediction window/prediction horizon\n",
    "time_sampling = 900 #Should be equal to data refreshing time\n",
    "sensor_list=df[[\"SCE_KEY\"]].to_numpy().tolist()\n",
    "sensor_list=sensor_list[0:20]\n",
    "\n",
    "#main function\n",
    "if __name__ == '__main__':\n",
    "    for i in range(1,90):\n",
    "        TrainingWindow+=1\n",
    "        MAPE_list = list()\n",
    "        date=datetime.datetime(2020, 5, 25, 6, 15)\n",
    "        dataprocess(df,date)\n",
    "        MAPE_npArray = np.array(MAPE_list)\n",
    "        mape = np.mean(np.abs((MAPE_npArray[:,0] - MAPE_npArray[:,1])/MAPE_npArray[:,0]))*100\n",
    "        print(\"MAPE is: \"+ str(mape)+\"Training window is: \"+str(TrainingWindow) )"
   ]
  },
  {
   "cell_type": "code",
   "execution_count": null,
   "metadata": {},
   "outputs": [],
   "source": []
  }
 ],
 "metadata": {
  "kernelspec": {
   "display_name": "Python 3",
   "language": "python",
   "name": "python3"
  },
  "language_info": {
   "codemirror_mode": {
    "name": "ipython",
    "version": 3
   },
   "file_extension": ".py",
   "mimetype": "text/x-python",
   "name": "python",
   "nbconvert_exporter": "python",
   "pygments_lexer": "ipython3",
   "version": "3.8.3"
  },
  "toc": {
   "base_numbering": 1,
   "nav_menu": {},
   "number_sections": true,
   "sideBar": true,
   "skip_h1_title": false,
   "title_cell": "Table of Contents",
   "title_sidebar": "Contents",
   "toc_cell": false,
   "toc_position": {},
   "toc_section_display": true,
   "toc_window_display": false
  },
  "varInspector": {
   "cols": {
    "lenName": 16,
    "lenType": 16,
    "lenVar": 40
   },
   "kernels_config": {
    "python": {
     "delete_cmd_postfix": "",
     "delete_cmd_prefix": "del ",
     "library": "var_list.py",
     "varRefreshCmd": "print(var_dic_list())"
    },
    "r": {
     "delete_cmd_postfix": ") ",
     "delete_cmd_prefix": "rm(",
     "library": "var_list.r",
     "varRefreshCmd": "cat(var_dic_list()) "
    }
   },
   "types_to_exclude": [
    "module",
    "function",
    "builtin_function_or_method",
    "instance",
    "_Feature"
   ],
   "window_display": false
  }
 },
 "nbformat": 4,
 "nbformat_minor": 4
}
